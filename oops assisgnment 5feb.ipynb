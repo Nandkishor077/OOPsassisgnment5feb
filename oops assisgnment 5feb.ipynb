{
 "cells": [
  {
   "cell_type": "markdown",
   "id": "e476bb45-982b-461c-80b0-95fbc03a9cf0",
   "metadata": {},
   "source": [
    "Q1. Explain Class and Object with respect to Object-Oriented Programming. Give a suitable example.\n"
   ]
  },
  {
   "cell_type": "raw",
   "id": "3948b6b3-f03d-404b-bca0-4821054bd36a",
   "metadata": {},
   "source": [
    "ans. Class − A class is a template/blueprint that describes the behavior/state that an object of its type support.\n",
    "     Object - An object is Instance of any class.\n",
    "     Ex- class : animal\n",
    "         object : dog, cat, cow.\n"
   ]
  },
  {
   "cell_type": "raw",
   "id": "39f767b0-70cd-4c6d-801b-a167f6dd85bb",
   "metadata": {},
   "source": [
    "Q2. Name the four pillars of OOPs."
   ]
  },
  {
   "cell_type": "raw",
   "id": "7d6fd6f4-face-4bde-acb4-96df5e17af3c",
   "metadata": {},
   "source": [
    "ans. The Four Pillars of OOPs are-\n",
    "1. Abstraction\n",
    "2. Encapsulation\n",
    "3. Inheritance\n",
    "4. Polymorphism"
   ]
  },
  {
   "cell_type": "raw",
   "id": "804a6ce5-ba02-473b-90d2-dde887fd8d38",
   "metadata": {},
   "source": [
    "Q3. Explain why the __init__() function is used. Give a suitable example."
   ]
  },
  {
   "cell_type": "raw",
   "id": "57a2819d-c28f-4789-95ba-e3e1f2e56758",
   "metadata": {},
   "source": [
    "ans. The __init()__ function in python is a constructor , its is called evertime when the object is created for the given class "
   ]
  },
  {
   "cell_type": "code",
   "execution_count": 2,
   "id": "4f703d89-251a-4191-84c2-58a4bf5d2ef1",
   "metadata": {},
   "outputs": [
    {
     "name": "stdout",
     "output_type": "stream",
     "text": [
      "Hello, my name is rohan\n"
     ]
    }
   ],
   "source": [
    "class Person:\n",
    "    def __init__(self, name):\n",
    "        self.name = name\n",
    "    def say_hi(self):\n",
    "        print('Hello, my name is', self.name)\n",
    "a = Person('rohan')\n",
    "a.say_hi()"
   ]
  },
  {
   "cell_type": "raw",
   "id": "3acc800d-9dd7-44f9-9e92-d95d5d4b9c2f",
   "metadata": {},
   "source": [
    "Q4. Why self is used in OOPs?"
   ]
  },
  {
   "cell_type": "raw",
   "id": "d2673e86-0084-4f8c-9345-59ff17bc5a5e",
   "metadata": {},
   "source": [
    "ans.The self parameter is a reference to the current instance of the class, and is used to access variables that belongs to the class.\n",
    "It is not a Keyword in python we can use any other word instead of it. "
   ]
  },
  {
   "cell_type": "raw",
   "id": "ef5766bf-b9b1-496e-87c0-ddd540c103f5",
   "metadata": {},
   "source": [
    "Q5. What is inheritance? Give an example for each type of inheritance."
   ]
  },
  {
   "cell_type": "raw",
   "id": "419aef27-8349-4c34-acb5-7af73fe2e29b",
   "metadata": {},
   "source": [
    "ans. Inheritance is a mechanism that allows you to create a hierarchy of classes that share a set of properties and methods by deriving a class from another class. Inheritance is the capability of one class to derive or inherit the properties from another class. \n",
    "types of Inheritance in python are:\n",
    "\n"
   ]
  },
  {
   "cell_type": "raw",
   "id": "a348a65d-2294-472e-895b-4d0e8c279d40",
   "metadata": {},
   "source": [
    "1. single inheritance "
   ]
  },
  {
   "cell_type": "code",
   "execution_count": 1,
   "id": "b661ac39-52a1-4b8b-9eb2-d018ba311b85",
   "metadata": {
    "collapsed": true,
    "jupyter": {
     "outputs_hidden": true
    },
    "tags": []
   },
   "outputs": [
    {
     "name": "stdout",
     "output_type": "stream",
     "text": [
      "This function is in parent class.\n",
      "This function is in child class.\n"
     ]
    }
   ],
   "source": [
    "class Parent:\n",
    "    def func1(self):\n",
    "        print(\"This function is in parent class.\")\n",
    "class Child(Parent):\n",
    "    def func2(self):\n",
    "        print(\"This function is in child class.\")\n",
    "object = Child()\n",
    "object.func1()\n",
    "object.func2()"
   ]
  },
  {
   "cell_type": "raw",
   "id": "4d34908b-12b3-4c81-9216-b18bfe4eb0de",
   "metadata": {},
   "source": [
    "2. multiple inheritance "
   ]
  },
  {
   "cell_type": "code",
   "execution_count": 5,
   "id": "adb1b73c-d04f-4f7e-a172-3a6e415ebf35",
   "metadata": {},
   "outputs": [
    {
     "name": "stdout",
     "output_type": "stream",
     "text": [
      "Father is rahul\n",
      "mother is varsha\n"
     ]
    }
   ],
   "source": [
    "# base class 1\n",
    "class Father:\n",
    "    fathername=\"\"\n",
    "  \n",
    "# base class 2\n",
    "class Mother:\n",
    "    mothername=\"\"\n",
    "  \n",
    "# derived class\n",
    "class Son(Father,Mother):\n",
    "    def parents(self):\n",
    "        print(\"Father is\",self.fathername)\n",
    "        print(\"mother is\",self.mothername)\n",
    "        \n",
    "s1= Son()\n",
    "s1.fathername=\"rahul\"\n",
    "s1.mothername=\"varsha\"\n",
    "s1.parents()\n",
    "    \n",
    "        "
   ]
  },
  {
   "cell_type": "raw",
   "id": "a6cf2433-5d17-4b79-a660-32dc1b50e0d4",
   "metadata": {},
   "source": [
    "3.multilevel inheritance"
   ]
  },
  {
   "cell_type": "code",
   "execution_count": 8,
   "id": "2b50c8f3-7894-4a45-a96f-2bc65a02624e",
   "metadata": {},
   "outputs": [
    {
     "name": "stdout",
     "output_type": "stream",
     "text": [
      "grandfather: raj\n",
      "father: ram\n",
      "son: mohit\n"
     ]
    }
   ],
   "source": [
    "# base class\n",
    "class Grandfather:\n",
    "    grandfathername=\"\"\n",
    "    \n",
    "# intermediate class\n",
    "class Father(Grandfather):\n",
    "    fathername=\"\"\n",
    "    \n",
    "# derived class\n",
    "class Son(Father):\n",
    "    sonname=\"\"\n",
    "    def parents(self):\n",
    "        print(\"grandfather:\",self.grandfathername)\n",
    "        print(\"father:\",self.fathername)\n",
    "        print(\"son:\",self.sonname)\n",
    "        \n",
    "s1= Son()\n",
    "s1.grandfathername=\"raj\"\n",
    "s1.fathername=\"ram\"\n",
    "s1.sonname=\"mohit\"\n",
    "s1.parents()"
   ]
  },
  {
   "cell_type": "raw",
   "id": "6600679b-143f-4825-8d93-b28e0bf11a3b",
   "metadata": {},
   "source": [
    "4. hierarchical inheritance "
   ]
  },
  {
   "cell_type": "code",
   "execution_count": null,
   "id": "70b11ad4-a4fa-47df-a137-b8214b878e46",
   "metadata": {},
   "outputs": [],
   "source": [
    "# base class\n",
    "class Parent:\n",
    "    def fun1(self):\n",
    "        print(\"this function is in parent class\")\n",
    "        \n",
    "#derived class1\n",
    "class Child1(Parent):\n",
    "    def fun2(self):\n",
    "        print(\"this function is in child1\")\n",
    "\n",
    "#derived class2\n",
    "class Child2(Parent):\n",
    "    def fun3(self):\n",
    "        print(\"this function is in chil2\")\n",
    "\n",
    "obj1= Child1()\n",
    "obj2= Child2()\n",
    "obj1.fun1()\n",
    "obj1.fun2()\n",
    "obj2.fun1()\n",
    "obj2.fun3()"
   ]
  },
  {
   "cell_type": "raw",
   "id": "9ba5a6d6-3ecc-4f29-a133-b379e1dea4d4",
   "metadata": {},
   "source": [
    "5. hybrid inheritance "
   ]
  },
  {
   "cell_type": "code",
   "execution_count": 12,
   "id": "f6f76001-f190-4067-bf56-1a2caac81677",
   "metadata": {},
   "outputs": [
    {
     "name": "stdout",
     "output_type": "stream",
     "text": [
      "This function is in school.\n",
      "This function is in student 1. \n"
     ]
    }
   ],
   "source": [
    "class School:\n",
    "    def func1(self):\n",
    "        print(\"This function is in school.\")\n",
    " \n",
    " \n",
    "class Student1(School):\n",
    "    def func2(self):\n",
    "        print(\"This function is in student 1. \")\n",
    " \n",
    " \n",
    "class Student2(School):\n",
    "    def func3(self):\n",
    "        print(\"This function is in student 2.\")\n",
    " \n",
    " \n",
    "class Student3(Student1, School):\n",
    "    def func4(self):\n",
    "        print(\"This function is in student 3.\")\n",
    " \n",
    " \n",
    "\n",
    "object = Student3()\n",
    "object.func1()\n",
    "object.func2()"
   ]
  },
  {
   "cell_type": "code",
   "execution_count": null,
   "id": "3a389afe-2689-4980-8957-1d472af52a44",
   "metadata": {},
   "outputs": [],
   "source": []
  }
 ],
 "metadata": {
  "kernelspec": {
   "display_name": "Python 3 (ipykernel)",
   "language": "python",
   "name": "python3"
  },
  "language_info": {
   "codemirror_mode": {
    "name": "ipython",
    "version": 3
   },
   "file_extension": ".py",
   "mimetype": "text/x-python",
   "name": "python",
   "nbconvert_exporter": "python",
   "pygments_lexer": "ipython3",
   "version": "3.10.8"
  }
 },
 "nbformat": 4,
 "nbformat_minor": 5
}
